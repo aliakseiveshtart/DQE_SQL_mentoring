{
  "nbformat": 4,
  "nbformat_minor": 0,
  "metadata": {
    "colab": {
      "name": "Menegement.ipynb",
      "provenance": [],
      "collapsed_sections": []
    },
    "kernelspec": {
      "name": "python3",
      "display_name": "Python 3"
    },
    "language_info": {
      "name": "python"
    }
  },
  "cells": [
    {
      "cell_type": "code",
      "execution_count": 155,
      "metadata": {
        "colab": {
          "base_uri": "https://localhost:8080/"
        },
        "id": "6XyLdMDF1B4V",
        "outputId": "882d3cd7-d400-4d72-c254-8f71bfe87112"
      },
      "outputs": [
        {
          "output_type": "stream",
          "name": "stdout",
          "text": [
            "Drive already mounted at /content/drive; to attempt to forcibly remount, call drive.mount(\"/content/drive\", force_remount=True).\n"
          ]
        }
      ],
      "source": [
        "import numpy as np \n",
        "import pandas as pd \n",
        "from matplotlib import pyplot as plt\n",
        "\n",
        "from google.colab import drive # We connect the library to work with google drive\n",
        "drive.mount('/content/drive')"
      ]
    },
    {
      "cell_type": "code",
      "source": [
        "df = pd.read_excel('/content/drive/My Drive/tmp/bond_issue_log.xlsx')"
      ],
      "metadata": {
        "id": "MPJOmNFj1sT0"
      },
      "execution_count": 4,
      "outputs": []
    },
    {
      "cell_type": "code",
      "source": [
        "df.head()"
      ],
      "metadata": {
        "colab": {
          "base_uri": "https://localhost:8080/",
          "height": 206
        },
        "id": "0GE_x7EP11o5",
        "outputId": "a8e1bc2e-75df-4f76-ed43-3ac9f422d815"
      },
      "execution_count": 5,
      "outputs": [
        {
          "output_type": "execute_result",
          "data": {
            "text/html": [
              "\n",
              "  <div id=\"df-28eedefd-7d0e-4e84-b603-aac70a882858\">\n",
              "    <div class=\"colab-df-container\">\n",
              "      <div>\n",
              "<style scoped>\n",
              "    .dataframe tbody tr th:only-of-type {\n",
              "        vertical-align: middle;\n",
              "    }\n",
              "\n",
              "    .dataframe tbody tr th {\n",
              "        vertical-align: top;\n",
              "    }\n",
              "\n",
              "    .dataframe thead th {\n",
              "        text-align: right;\n",
              "    }\n",
              "</style>\n",
              "<table border=\"1\" class=\"dataframe\">\n",
              "  <thead>\n",
              "    <tr style=\"text-align: right;\">\n",
              "      <th></th>\n",
              "      <th>module</th>\n",
              "      <th>title</th>\n",
              "      <th>description</th>\n",
              "      <th>assigned</th>\n",
              "      <th>reopened</th>\n",
              "      <th>sprint- week</th>\n",
              "      <th>status</th>\n",
              "      <th>severity</th>\n",
              "    </tr>\n",
              "  </thead>\n",
              "  <tbody>\n",
              "    <tr>\n",
              "      <th>0</th>\n",
              "      <td>Core</td>\n",
              "      <td>amet nulla. Donec non justo. Proin non massa n...</td>\n",
              "      <td>Donec est mauris, rhoncus id, mollis nec, curs...</td>\n",
              "      <td>Rahim Nielsen</td>\n",
              "      <td>2</td>\n",
              "      <td>12</td>\n",
              "      <td>verified</td>\n",
              "      <td>normal</td>\n",
              "    </tr>\n",
              "    <tr>\n",
              "      <th>1</th>\n",
              "      <td>Core</td>\n",
              "      <td>Mauris quis turpis vitae purus gravida sagitti...</td>\n",
              "      <td>Nunc ac sem ut dolor dapibus gravida. Aliquam ...</td>\n",
              "      <td>Kyra Bowman</td>\n",
              "      <td>0</td>\n",
              "      <td>12</td>\n",
              "      <td>verified</td>\n",
              "      <td>high</td>\n",
              "    </tr>\n",
              "    <tr>\n",
              "      <th>2</th>\n",
              "      <td>Core</td>\n",
              "      <td>sit amet massa. Quisque porttitor eros nec tel...</td>\n",
              "      <td>hendrerit neque. In ornare sagittis felis. Don...</td>\n",
              "      <td>Illiana David</td>\n",
              "      <td>0</td>\n",
              "      <td>12</td>\n",
              "      <td>won't fix</td>\n",
              "      <td>critical</td>\n",
              "    </tr>\n",
              "    <tr>\n",
              "      <th>3</th>\n",
              "      <td>Core</td>\n",
              "      <td>malesuada ut, sem. Nulla interdum. Curabitur</td>\n",
              "      <td>odio. Nam interdum enim non nisi. Aenean eget ...</td>\n",
              "      <td>Allen Avery</td>\n",
              "      <td>1</td>\n",
              "      <td>12</td>\n",
              "      <td>verified</td>\n",
              "      <td>high</td>\n",
              "    </tr>\n",
              "    <tr>\n",
              "      <th>4</th>\n",
              "      <td>Core</td>\n",
              "      <td>id, blandit at, nisi. Cum sociis natoque penat...</td>\n",
              "      <td>libero. Donec consectetuer mauris id sapien. C...</td>\n",
              "      <td>Bruce Henson</td>\n",
              "      <td>2</td>\n",
              "      <td>12</td>\n",
              "      <td>verified</td>\n",
              "      <td>normal</td>\n",
              "    </tr>\n",
              "  </tbody>\n",
              "</table>\n",
              "</div>\n",
              "      <button class=\"colab-df-convert\" onclick=\"convertToInteractive('df-28eedefd-7d0e-4e84-b603-aac70a882858')\"\n",
              "              title=\"Convert this dataframe to an interactive table.\"\n",
              "              style=\"display:none;\">\n",
              "        \n",
              "  <svg xmlns=\"http://www.w3.org/2000/svg\" height=\"24px\"viewBox=\"0 0 24 24\"\n",
              "       width=\"24px\">\n",
              "    <path d=\"M0 0h24v24H0V0z\" fill=\"none\"/>\n",
              "    <path d=\"M18.56 5.44l.94 2.06.94-2.06 2.06-.94-2.06-.94-.94-2.06-.94 2.06-2.06.94zm-11 1L8.5 8.5l.94-2.06 2.06-.94-2.06-.94L8.5 2.5l-.94 2.06-2.06.94zm10 10l.94 2.06.94-2.06 2.06-.94-2.06-.94-.94-2.06-.94 2.06-2.06.94z\"/><path d=\"M17.41 7.96l-1.37-1.37c-.4-.4-.92-.59-1.43-.59-.52 0-1.04.2-1.43.59L10.3 9.45l-7.72 7.72c-.78.78-.78 2.05 0 2.83L4 21.41c.39.39.9.59 1.41.59.51 0 1.02-.2 1.41-.59l7.78-7.78 2.81-2.81c.8-.78.8-2.07 0-2.86zM5.41 20L4 18.59l7.72-7.72 1.47 1.35L5.41 20z\"/>\n",
              "  </svg>\n",
              "      </button>\n",
              "      \n",
              "  <style>\n",
              "    .colab-df-container {\n",
              "      display:flex;\n",
              "      flex-wrap:wrap;\n",
              "      gap: 12px;\n",
              "    }\n",
              "\n",
              "    .colab-df-convert {\n",
              "      background-color: #E8F0FE;\n",
              "      border: none;\n",
              "      border-radius: 50%;\n",
              "      cursor: pointer;\n",
              "      display: none;\n",
              "      fill: #1967D2;\n",
              "      height: 32px;\n",
              "      padding: 0 0 0 0;\n",
              "      width: 32px;\n",
              "    }\n",
              "\n",
              "    .colab-df-convert:hover {\n",
              "      background-color: #E2EBFA;\n",
              "      box-shadow: 0px 1px 2px rgba(60, 64, 67, 0.3), 0px 1px 3px 1px rgba(60, 64, 67, 0.15);\n",
              "      fill: #174EA6;\n",
              "    }\n",
              "\n",
              "    [theme=dark] .colab-df-convert {\n",
              "      background-color: #3B4455;\n",
              "      fill: #D2E3FC;\n",
              "    }\n",
              "\n",
              "    [theme=dark] .colab-df-convert:hover {\n",
              "      background-color: #434B5C;\n",
              "      box-shadow: 0px 1px 3px 1px rgba(0, 0, 0, 0.15);\n",
              "      filter: drop-shadow(0px 1px 2px rgba(0, 0, 0, 0.3));\n",
              "      fill: #FFFFFF;\n",
              "    }\n",
              "  </style>\n",
              "\n",
              "      <script>\n",
              "        const buttonEl =\n",
              "          document.querySelector('#df-28eedefd-7d0e-4e84-b603-aac70a882858 button.colab-df-convert');\n",
              "        buttonEl.style.display =\n",
              "          google.colab.kernel.accessAllowed ? 'block' : 'none';\n",
              "\n",
              "        async function convertToInteractive(key) {\n",
              "          const element = document.querySelector('#df-28eedefd-7d0e-4e84-b603-aac70a882858');\n",
              "          const dataTable =\n",
              "            await google.colab.kernel.invokeFunction('convertToInteractive',\n",
              "                                                     [key], {});\n",
              "          if (!dataTable) return;\n",
              "\n",
              "          const docLinkHtml = 'Like what you see? Visit the ' +\n",
              "            '<a target=\"_blank\" href=https://colab.research.google.com/notebooks/data_table.ipynb>data table notebook</a>'\n",
              "            + ' to learn more about interactive tables.';\n",
              "          element.innerHTML = '';\n",
              "          dataTable['output_type'] = 'display_data';\n",
              "          await google.colab.output.renderOutput(dataTable, element);\n",
              "          const docLink = document.createElement('div');\n",
              "          docLink.innerHTML = docLinkHtml;\n",
              "          element.appendChild(docLink);\n",
              "        }\n",
              "      </script>\n",
              "    </div>\n",
              "  </div>\n",
              "  "
            ],
            "text/plain": [
              "  module  ...  severity\n",
              "0   Core  ...    normal\n",
              "1   Core  ...      high\n",
              "2   Core  ...  critical\n",
              "3   Core  ...      high\n",
              "4   Core  ...    normal\n",
              "\n",
              "[5 rows x 8 columns]"
            ]
          },
          "metadata": {},
          "execution_count": 5
        }
      ]
    },
    {
      "cell_type": "code",
      "source": [
        "# arrange weights for bugs according to their priority"
      ],
      "metadata": {
        "id": "AI_KNIZBTT0i"
      },
      "execution_count": 6,
      "outputs": []
    },
    {
      "cell_type": "code",
      "source": [
        "conditions = [\n",
        "    (df['severity'] == 'critical'),\n",
        "    (df['severity'] == 'high'),\n",
        "    (df['severity'] == 'normal'),\n",
        "    (df['severity'] == 'low'),\n",
        "    (df['severity'] == 'tiny')\n",
        "    ]\n",
        "values = [1, 0.5, 0.25, 0.125, 0.0625]\n",
        "df['weight'] = np.select(conditions, values)\n",
        "df.head()"
      ],
      "metadata": {
        "colab": {
          "base_uri": "https://localhost:8080/",
          "height": 206
        },
        "id": "fMicxvHeLglJ",
        "outputId": "a4366cc4-62b6-402b-f5fe-9c926e52710c"
      },
      "execution_count": 7,
      "outputs": [
        {
          "output_type": "execute_result",
          "data": {
            "text/html": [
              "\n",
              "  <div id=\"df-32642a09-f7b3-4f02-a009-d1b94e7de57b\">\n",
              "    <div class=\"colab-df-container\">\n",
              "      <div>\n",
              "<style scoped>\n",
              "    .dataframe tbody tr th:only-of-type {\n",
              "        vertical-align: middle;\n",
              "    }\n",
              "\n",
              "    .dataframe tbody tr th {\n",
              "        vertical-align: top;\n",
              "    }\n",
              "\n",
              "    .dataframe thead th {\n",
              "        text-align: right;\n",
              "    }\n",
              "</style>\n",
              "<table border=\"1\" class=\"dataframe\">\n",
              "  <thead>\n",
              "    <tr style=\"text-align: right;\">\n",
              "      <th></th>\n",
              "      <th>module</th>\n",
              "      <th>title</th>\n",
              "      <th>description</th>\n",
              "      <th>assigned</th>\n",
              "      <th>reopened</th>\n",
              "      <th>sprint- week</th>\n",
              "      <th>status</th>\n",
              "      <th>severity</th>\n",
              "      <th>weight</th>\n",
              "    </tr>\n",
              "  </thead>\n",
              "  <tbody>\n",
              "    <tr>\n",
              "      <th>0</th>\n",
              "      <td>Core</td>\n",
              "      <td>amet nulla. Donec non justo. Proin non massa n...</td>\n",
              "      <td>Donec est mauris, rhoncus id, mollis nec, curs...</td>\n",
              "      <td>Rahim Nielsen</td>\n",
              "      <td>2</td>\n",
              "      <td>12</td>\n",
              "      <td>verified</td>\n",
              "      <td>normal</td>\n",
              "      <td>0.25</td>\n",
              "    </tr>\n",
              "    <tr>\n",
              "      <th>1</th>\n",
              "      <td>Core</td>\n",
              "      <td>Mauris quis turpis vitae purus gravida sagitti...</td>\n",
              "      <td>Nunc ac sem ut dolor dapibus gravida. Aliquam ...</td>\n",
              "      <td>Kyra Bowman</td>\n",
              "      <td>0</td>\n",
              "      <td>12</td>\n",
              "      <td>verified</td>\n",
              "      <td>high</td>\n",
              "      <td>0.50</td>\n",
              "    </tr>\n",
              "    <tr>\n",
              "      <th>2</th>\n",
              "      <td>Core</td>\n",
              "      <td>sit amet massa. Quisque porttitor eros nec tel...</td>\n",
              "      <td>hendrerit neque. In ornare sagittis felis. Don...</td>\n",
              "      <td>Illiana David</td>\n",
              "      <td>0</td>\n",
              "      <td>12</td>\n",
              "      <td>won't fix</td>\n",
              "      <td>critical</td>\n",
              "      <td>1.00</td>\n",
              "    </tr>\n",
              "    <tr>\n",
              "      <th>3</th>\n",
              "      <td>Core</td>\n",
              "      <td>malesuada ut, sem. Nulla interdum. Curabitur</td>\n",
              "      <td>odio. Nam interdum enim non nisi. Aenean eget ...</td>\n",
              "      <td>Allen Avery</td>\n",
              "      <td>1</td>\n",
              "      <td>12</td>\n",
              "      <td>verified</td>\n",
              "      <td>high</td>\n",
              "      <td>0.50</td>\n",
              "    </tr>\n",
              "    <tr>\n",
              "      <th>4</th>\n",
              "      <td>Core</td>\n",
              "      <td>id, blandit at, nisi. Cum sociis natoque penat...</td>\n",
              "      <td>libero. Donec consectetuer mauris id sapien. C...</td>\n",
              "      <td>Bruce Henson</td>\n",
              "      <td>2</td>\n",
              "      <td>12</td>\n",
              "      <td>verified</td>\n",
              "      <td>normal</td>\n",
              "      <td>0.25</td>\n",
              "    </tr>\n",
              "  </tbody>\n",
              "</table>\n",
              "</div>\n",
              "      <button class=\"colab-df-convert\" onclick=\"convertToInteractive('df-32642a09-f7b3-4f02-a009-d1b94e7de57b')\"\n",
              "              title=\"Convert this dataframe to an interactive table.\"\n",
              "              style=\"display:none;\">\n",
              "        \n",
              "  <svg xmlns=\"http://www.w3.org/2000/svg\" height=\"24px\"viewBox=\"0 0 24 24\"\n",
              "       width=\"24px\">\n",
              "    <path d=\"M0 0h24v24H0V0z\" fill=\"none\"/>\n",
              "    <path d=\"M18.56 5.44l.94 2.06.94-2.06 2.06-.94-2.06-.94-.94-2.06-.94 2.06-2.06.94zm-11 1L8.5 8.5l.94-2.06 2.06-.94-2.06-.94L8.5 2.5l-.94 2.06-2.06.94zm10 10l.94 2.06.94-2.06 2.06-.94-2.06-.94-.94-2.06-.94 2.06-2.06.94z\"/><path d=\"M17.41 7.96l-1.37-1.37c-.4-.4-.92-.59-1.43-.59-.52 0-1.04.2-1.43.59L10.3 9.45l-7.72 7.72c-.78.78-.78 2.05 0 2.83L4 21.41c.39.39.9.59 1.41.59.51 0 1.02-.2 1.41-.59l7.78-7.78 2.81-2.81c.8-.78.8-2.07 0-2.86zM5.41 20L4 18.59l7.72-7.72 1.47 1.35L5.41 20z\"/>\n",
              "  </svg>\n",
              "      </button>\n",
              "      \n",
              "  <style>\n",
              "    .colab-df-container {\n",
              "      display:flex;\n",
              "      flex-wrap:wrap;\n",
              "      gap: 12px;\n",
              "    }\n",
              "\n",
              "    .colab-df-convert {\n",
              "      background-color: #E8F0FE;\n",
              "      border: none;\n",
              "      border-radius: 50%;\n",
              "      cursor: pointer;\n",
              "      display: none;\n",
              "      fill: #1967D2;\n",
              "      height: 32px;\n",
              "      padding: 0 0 0 0;\n",
              "      width: 32px;\n",
              "    }\n",
              "\n",
              "    .colab-df-convert:hover {\n",
              "      background-color: #E2EBFA;\n",
              "      box-shadow: 0px 1px 2px rgba(60, 64, 67, 0.3), 0px 1px 3px 1px rgba(60, 64, 67, 0.15);\n",
              "      fill: #174EA6;\n",
              "    }\n",
              "\n",
              "    [theme=dark] .colab-df-convert {\n",
              "      background-color: #3B4455;\n",
              "      fill: #D2E3FC;\n",
              "    }\n",
              "\n",
              "    [theme=dark] .colab-df-convert:hover {\n",
              "      background-color: #434B5C;\n",
              "      box-shadow: 0px 1px 3px 1px rgba(0, 0, 0, 0.15);\n",
              "      filter: drop-shadow(0px 1px 2px rgba(0, 0, 0, 0.3));\n",
              "      fill: #FFFFFF;\n",
              "    }\n",
              "  </style>\n",
              "\n",
              "      <script>\n",
              "        const buttonEl =\n",
              "          document.querySelector('#df-32642a09-f7b3-4f02-a009-d1b94e7de57b button.colab-df-convert');\n",
              "        buttonEl.style.display =\n",
              "          google.colab.kernel.accessAllowed ? 'block' : 'none';\n",
              "\n",
              "        async function convertToInteractive(key) {\n",
              "          const element = document.querySelector('#df-32642a09-f7b3-4f02-a009-d1b94e7de57b');\n",
              "          const dataTable =\n",
              "            await google.colab.kernel.invokeFunction('convertToInteractive',\n",
              "                                                     [key], {});\n",
              "          if (!dataTable) return;\n",
              "\n",
              "          const docLinkHtml = 'Like what you see? Visit the ' +\n",
              "            '<a target=\"_blank\" href=https://colab.research.google.com/notebooks/data_table.ipynb>data table notebook</a>'\n",
              "            + ' to learn more about interactive tables.';\n",
              "          element.innerHTML = '';\n",
              "          dataTable['output_type'] = 'display_data';\n",
              "          await google.colab.output.renderOutput(dataTable, element);\n",
              "          const docLink = document.createElement('div');\n",
              "          docLink.innerHTML = docLinkHtml;\n",
              "          element.appendChild(docLink);\n",
              "        }\n",
              "      </script>\n",
              "    </div>\n",
              "  </div>\n",
              "  "
            ],
            "text/plain": [
              "  module                                              title  ...  severity weight\n",
              "0   Core  amet nulla. Donec non justo. Proin non massa n...  ...    normal   0.25\n",
              "1   Core  Mauris quis turpis vitae purus gravida sagitti...  ...      high   0.50\n",
              "2   Core  sit amet massa. Quisque porttitor eros nec tel...  ...  critical   1.00\n",
              "3   Core       malesuada ut, sem. Nulla interdum. Curabitur  ...      high   0.50\n",
              "4   Core  id, blandit at, nisi. Cum sociis natoque penat...  ...    normal   0.25\n",
              "\n",
              "[5 rows x 9 columns]"
            ]
          },
          "metadata": {},
          "execution_count": 7
        }
      ]
    },
    {
      "cell_type": "code",
      "source": [
        "# For each module, we will display a graph showing how many bugs were found in total (depending on priority). "
      ],
      "metadata": {
        "id": "18OyjkptfmEI"
      },
      "execution_count": null,
      "outputs": []
    },
    {
      "cell_type": "code",
      "source": [
        "plotdata = pd.pivot_table(df, index='module', values='weight', columns=['severity'], aggfunc='sum')\n",
        "plotdata.plot(kind=\"bar\")"
      ],
      "metadata": {
        "colab": {
          "base_uri": "https://localhost:8080/",
          "height": 334
        },
        "id": "TUixgA-8-qcx",
        "outputId": "ca467354-5ba0-4f23-d34b-1533ac19df1a"
      },
      "execution_count": 8,
      "outputs": [
        {
          "output_type": "execute_result",
          "data": {
            "text/plain": [
              "<matplotlib.axes._subplots.AxesSubplot at 0x7f0c00899790>"
            ]
          },
          "metadata": {},
          "execution_count": 8
        },
        {
          "output_type": "display_data",
          "data": {
            "image/png": "[encoded data removed]",
            "text/plain": [
              "<Figure size 432x288 with 1 Axes>"
            ]
          },
          "metadata": {
            "needs_background": "light"
          }
        }
      ]
    },
    {
      "cell_type": "code",
      "source": [
        "# And the summary chart:"
      ],
      "metadata": {
        "id": "jjxSL9QbTfqf"
      },
      "execution_count": 9,
      "outputs": []
    },
    {
      "cell_type": "code",
      "source": [
        "df2 = df.groupby('module').sum('weight')\n",
        "df2 = df2['weight']\n",
        "df2.plot(kind=\"bar\")"
      ],
      "metadata": {
        "colab": {
          "base_uri": "https://localhost:8080/",
          "height": 334
        },
        "id": "pqKoOuG5zZIW",
        "outputId": "b5e12993-c726-48b9-a1f4-66cf0ca3ddff"
      },
      "execution_count": 10,
      "outputs": [
        {
          "output_type": "execute_result",
          "data": {
            "text/plain": [
              "<matplotlib.axes._subplots.AxesSubplot at 0x7f0bff5f1c50>"
            ]
          },
          "metadata": {},
          "execution_count": 10
        },
        {
          "output_type": "display_data",
          "data": {
            "image/png": "[encoded data removed]",
            "text/plain": [
              "<Figure size 432x288 with 1 Axes>"
            ]
          },
          "metadata": {
            "needs_background": "light"
          }
        }
      ]
    },
    {
      "cell_type": "code",
      "source": [
        "# Let's display a graph that shows the sum of bug weights by week."
      ],
      "metadata": {
        "id": "PbI2RwQOTkzc"
      },
      "execution_count": 11,
      "outputs": []
    },
    {
      "cell_type": "code",
      "source": [
        "plotdata = pd.pivot_table(df, index='sprint- week', values='weight', columns=['severity'], aggfunc='sum')\n",
        "plotdata['sum_all'] = plotdata.sum(axis=1)\n",
        "plotdata = plotdata[['sum_all']]\n",
        "print(\"Minimum number of bugs:\", plotdata.loc[plotdata['sum_all'].idxmin()][0], \"was in the\", plotdata['sum_all'].idxmin(), \"week.\")\n",
        "print(\"Maximum number of bugs:\", plotdata.loc[plotdata['sum_all'].idxmax()][0], \"was in the\", plotdata['sum_all'].idxmax(), \"week.\")\n",
        "# plotdata.head()"
      ],
      "metadata": {
        "colab": {
          "base_uri": "https://localhost:8080/"
        },
        "id": "bJxcqRYqTBUd",
        "outputId": "21ee9cac-efd9-475d-e9a0-ad22e140846f"
      },
      "execution_count": 12,
      "outputs": [
        {
          "output_type": "stream",
          "name": "stdout",
          "text": [
            "Minimum number of bugs: 7.75 was in the 31 week.\n",
            "Maximum number of bugs: 34.125 was in the 24 week.\n"
          ]
        }
      ]
    },
    {
      "cell_type": "code",
      "source": [
        "plotdata.plot(kind=\"line\")"
      ],
      "metadata": {
        "colab": {
          "base_uri": "https://localhost:8080/",
          "height": 297
        },
        "id": "grckzXMOYDjD",
        "outputId": "6d4eb21b-b8fe-44df-d93e-d78fb620a011"
      },
      "execution_count": 13,
      "outputs": [
        {
          "output_type": "execute_result",
          "data": {
            "text/plain": [
              "<matplotlib.axes._subplots.AxesSubplot at 0x7f0bff0fd110>"
            ]
          },
          "metadata": {},
          "execution_count": 13
        },
        {
          "output_type": "display_data",
          "data": {
            "image/png": "[encoded data removed]",
            "text/plain": [
              "<Figure size 432x288 with 1 Axes>"
            ]
          },
          "metadata": {
            "needs_background": "light"
          }
        }
      ]
    },
    {
      "cell_type": "code",
      "source": [
        "\n",
        "plotdata['sum_all_previous'] = plotdata.shift()\n",
        "plotdata['dynamic_week'] = plotdata['sum_all'] - plotdata['sum_all_previous']\n",
        "print(\"Most dynamic week:\", plotdata['dynamic_week'].idxmax(), \"(growth dynamics\", plotdata[['dynamic_week']].loc[plotdata['dynamic_week'].idxmax()][0],\"points)\")\n",
        "print(\"Most silent week:\", plotdata['dynamic_week'].idxmin(), \"(growth dynamics\", plotdata[['dynamic_week']].loc[plotdata['dynamic_week'].idxmin()][0],\"points)\")\n"
      ],
      "metadata": {
        "colab": {
          "base_uri": "https://localhost:8080/"
        },
        "id": "oMGWuvMaWHUg",
        "outputId": "1229fbbd-86a7-4593-e4b7-eada62e26bce"
      },
      "execution_count": 14,
      "outputs": [
        {
          "output_type": "stream",
          "name": "stdout",
          "text": [
            "Most dynamic week: 39 (growth dynamics 7.75 points)\n",
            "Most silent week: 31 (growth dynamics -10.1875 points)\n"
          ]
        }
      ]
    },
    {
      "cell_type": "code",
      "source": [
        "\n",
        "df3 = df.groupby(['severity']).sum('weight')/df['sprint- week'].nunique()\n",
        "df3 = df3['weight'].to_frame()\n",
        "df3.reset_index(level=0, inplace=True)\n",
        "df3['weight_source'] = np.select([\n",
        "    (df3['severity'] == 'critical'),\n",
        "    (df3['severity'] == 'high'),\n",
        "    (df3['severity'] == 'normal'),\n",
        "    (df3['severity'] == 'low'),\n",
        "    (df3['severity'] == 'tiny')\n",
        "    ], values)\n",
        "\n",
        "df3['number_of_bugs_per_week'] = df3['weight']/df3['weight_source']\n",
        "df3['number_of_bugs_per_week'] = df3['number_of_bugs_per_week'].apply(np.ceil)\n",
        "df3.head()"
      ],
      "metadata": {
        "colab": {
          "base_uri": "https://localhost:8080/",
          "height": 206
        },
        "id": "wCN3FfoAI6OZ",
        "outputId": "28c10919-a794-491d-a1a8-17568f4bd498"
      },
      "execution_count": 163,
      "outputs": [
        {
          "output_type": "execute_result",
          "data": {
            "text/html": [
              "\n",
              "  <div id=\"df-b9672b5f-392a-4016-b15f-4227c7d5d889\">\n",
              "    <div class=\"colab-df-container\">\n",
              "      <div>\n",
              "<style scoped>\n",
              "    .dataframe tbody tr th:only-of-type {\n",
              "        vertical-align: middle;\n",
              "    }\n",
              "\n",
              "    .dataframe tbody tr th {\n",
              "        vertical-align: top;\n",
              "    }\n",
              "\n",
              "    .dataframe thead th {\n",
              "        text-align: right;\n",
              "    }\n",
              "</style>\n",
              "<table border=\"1\" class=\"dataframe\">\n",
              "  <thead>\n",
              "    <tr style=\"text-align: right;\">\n",
              "      <th></th>\n",
              "      <th>severity</th>\n",
              "      <th>weight</th>\n",
              "      <th>weight_source</th>\n",
              "      <th>number_of_bugs_per_week</th>\n",
              "    </tr>\n",
              "  </thead>\n",
              "  <tbody>\n",
              "    <tr>\n",
              "      <th>0</th>\n",
              "      <td>critical</td>\n",
              "      <td>6.586207</td>\n",
              "      <td>1.0000</td>\n",
              "      <td>7.0</td>\n",
              "    </tr>\n",
              "    <tr>\n",
              "      <th>1</th>\n",
              "      <td>high</td>\n",
              "      <td>10.568966</td>\n",
              "      <td>0.5000</td>\n",
              "      <td>22.0</td>\n",
              "    </tr>\n",
              "    <tr>\n",
              "      <th>2</th>\n",
              "      <td>low</td>\n",
              "      <td>1.077586</td>\n",
              "      <td>0.1250</td>\n",
              "      <td>9.0</td>\n",
              "    </tr>\n",
              "    <tr>\n",
              "      <th>3</th>\n",
              "      <td>normal</td>\n",
              "      <td>5.215517</td>\n",
              "      <td>0.2500</td>\n",
              "      <td>21.0</td>\n",
              "    </tr>\n",
              "    <tr>\n",
              "      <th>4</th>\n",
              "      <td>tiny</td>\n",
              "      <td>0.553879</td>\n",
              "      <td>0.0625</td>\n",
              "      <td>9.0</td>\n",
              "    </tr>\n",
              "  </tbody>\n",
              "</table>\n",
              "</div>\n",
              "      <button class=\"colab-df-convert\" onclick=\"convertToInteractive('df-b9672b5f-392a-4016-b15f-4227c7d5d889')\"\n",
              "              title=\"Convert this dataframe to an interactive table.\"\n",
              "              style=\"display:none;\">\n",
              "        \n",
              "  <svg xmlns=\"http://www.w3.org/2000/svg\" height=\"24px\"viewBox=\"0 0 24 24\"\n",
              "       width=\"24px\">\n",
              "    <path d=\"M0 0h24v24H0V0z\" fill=\"none\"/>\n",
              "    <path d=\"M18.56 5.44l.94 2.06.94-2.06 2.06-.94-2.06-.94-.94-2.06-.94 2.06-2.06.94zm-11 1L8.5 8.5l.94-2.06 2.06-.94-2.06-.94L8.5 2.5l-.94 2.06-2.06.94zm10 10l.94 2.06.94-2.06 2.06-.94-2.06-.94-.94-2.06-.94 2.06-2.06.94z\"/><path d=\"M17.41 7.96l-1.37-1.37c-.4-.4-.92-.59-1.43-.59-.52 0-1.04.2-1.43.59L10.3 9.45l-7.72 7.72c-.78.78-.78 2.05 0 2.83L4 21.41c.39.39.9.59 1.41.59.51 0 1.02-.2 1.41-.59l7.78-7.78 2.81-2.81c.8-.78.8-2.07 0-2.86zM5.41 20L4 18.59l7.72-7.72 1.47 1.35L5.41 20z\"/>\n",
              "  </svg>\n",
              "      </button>\n",
              "      \n",
              "  <style>\n",
              "    .colab-df-container {\n",
              "      display:flex;\n",
              "      flex-wrap:wrap;\n",
              "      gap: 12px;\n",
              "    }\n",
              "\n",
              "    .colab-df-convert {\n",
              "      background-color: #E8F0FE;\n",
              "      border: none;\n",
              "      border-radius: 50%;\n",
              "      cursor: pointer;\n",
              "      display: none;\n",
              "      fill: #1967D2;\n",
              "      height: 32px;\n",
              "      padding: 0 0 0 0;\n",
              "      width: 32px;\n",
              "    }\n",
              "\n",
              "    .colab-df-convert:hover {\n",
              "      background-color: #E2EBFA;\n",
              "      box-shadow: 0px 1px 2px rgba(60, 64, 67, 0.3), 0px 1px 3px 1px rgba(60, 64, 67, 0.15);\n",
              "      fill: #174EA6;\n",
              "    }\n",
              "\n",
              "    [theme=dark] .colab-df-convert {\n",
              "      background-color: #3B4455;\n",
              "      fill: #D2E3FC;\n",
              "    }\n",
              "\n",
              "    [theme=dark] .colab-df-convert:hover {\n",
              "      background-color: #434B5C;\n",
              "      box-shadow: 0px 1px 3px 1px rgba(0, 0, 0, 0.15);\n",
              "      filter: drop-shadow(0px 1px 2px rgba(0, 0, 0, 0.3));\n",
              "      fill: #FFFFFF;\n",
              "    }\n",
              "  </style>\n",
              "\n",
              "      <script>\n",
              "        const buttonEl =\n",
              "          document.querySelector('#df-b9672b5f-392a-4016-b15f-4227c7d5d889 button.colab-df-convert');\n",
              "        buttonEl.style.display =\n",
              "          google.colab.kernel.accessAllowed ? 'block' : 'none';\n",
              "\n",
              "        async function convertToInteractive(key) {\n",
              "          const element = document.querySelector('#df-b9672b5f-392a-4016-b15f-4227c7d5d889');\n",
              "          const dataTable =\n",
              "            await google.colab.kernel.invokeFunction('convertToInteractive',\n",
              "                                                     [key], {});\n",
              "          if (!dataTable) return;\n",
              "\n",
              "          const docLinkHtml = 'Like what you see? Visit the ' +\n",
              "            '<a target=\"_blank\" href=https://colab.research.google.com/notebooks/data_table.ipynb>data table notebook</a>'\n",
              "            + ' to learn more about interactive tables.';\n",
              "          element.innerHTML = '';\n",
              "          dataTable['output_type'] = 'display_data';\n",
              "          await google.colab.output.renderOutput(dataTable, element);\n",
              "          const docLink = document.createElement('div');\n",
              "          docLink.innerHTML = docLinkHtml;\n",
              "          element.appendChild(docLink);\n",
              "        }\n",
              "      </script>\n",
              "    </div>\n",
              "  </div>\n",
              "  "
            ],
            "text/plain": [
              "   severity     weight  weight_source  number_of_bugs_per_week\n",
              "0  critical   6.586207         1.0000                      7.0\n",
              "1      high  10.568966         0.5000                     22.0\n",
              "2       low   1.077586         0.1250                      9.0\n",
              "3    normal   5.215517         0.2500                     21.0\n",
              "4      tiny   0.553879         0.0625                      9.0"
            ]
          },
          "metadata": {},
          "execution_count": 163
        }
      ]
    },
    {
      "cell_type": "code",
      "source": [
        "df3['number_of_bugs_per_week'].sum()"
      ],
      "metadata": {
        "colab": {
          "base_uri": "https://localhost:8080/"
        },
        "id": "wjdJbREFe_zt",
        "outputId": "fc9a5111-53ba-45d3-9fea-b955db2e52f6"
      },
      "execution_count": 162,
      "outputs": [
        {
          "output_type": "execute_result",
          "data": {
            "text/plain": [
              "68.0"
            ]
          },
          "metadata": {},
          "execution_count": 162
        }
      ]
    }
  ]
}