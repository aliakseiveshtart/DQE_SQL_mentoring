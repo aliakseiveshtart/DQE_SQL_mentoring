{
 "cells": [
  {
   "cell_type": "code",
   "execution_count": 1,
   "id": "8ba169be",
   "metadata": {
    "execution": {
     "iopub.execute_input": "2021-12-22T19:43:08.165407Z",
     "iopub.status.busy": "2021-12-22T19:43:08.164448Z",
     "iopub.status.idle": "2021-12-22T19:43:08.169264Z",
     "shell.execute_reply": "2021-12-22T19:43:08.170073Z"
    }
   },
   "outputs": [],
   "source": [
    "# import the necessary modules"
   ]
  },
  {
   "cell_type": "code",
   "execution_count": 2,
   "id": "f3da7883",
   "metadata": {
    "execution": {
     "iopub.execute_input": "2021-12-22T19:43:08.193535Z",
     "iopub.status.busy": "2021-12-22T19:43:08.192614Z",
     "iopub.status.idle": "2021-12-22T19:43:08.560946Z",
     "shell.execute_reply": "2021-12-22T19:43:08.560429Z"
    }
   },
   "outputs": [],
   "source": [
    "import pandas as pd\n",
    "import numpy as np\n",
    "import os\n",
    "import datetime"
   ]
  },
  {
   "cell_type": "code",
   "execution_count": 3,
   "id": "bf5d728a",
   "metadata": {
    "execution": {
     "iopub.execute_input": "2021-12-22T19:43:08.566098Z",
     "iopub.status.busy": "2021-12-22T19:43:08.565580Z",
     "iopub.status.idle": "2021-12-22T19:43:08.570006Z",
     "shell.execute_reply": "2021-12-22T19:43:08.569473Z"
    }
   },
   "outputs": [],
   "source": [
    "# set the home directory. it will store our data."
   ]
  },
  {
   "cell_type": "code",
   "execution_count": 4,
   "id": "89b54f55",
   "metadata": {
    "execution": {
     "iopub.execute_input": "2021-12-22T19:43:08.575254Z",
     "iopub.status.busy": "2021-12-22T19:43:08.574652Z",
     "iopub.status.idle": "2021-12-22T19:43:08.579432Z",
     "shell.execute_reply": "2021-12-22T19:43:08.578232Z"
    }
   },
   "outputs": [],
   "source": [
    "root_path = os.path.expanduser('~')"
   ]
  },
  {
   "cell_type": "code",
   "execution_count": 5,
   "id": "554c027a",
   "metadata": {
    "execution": {
     "iopub.execute_input": "2021-12-22T19:43:08.584481Z",
     "iopub.status.busy": "2021-12-22T19:43:08.583846Z",
     "iopub.status.idle": "2021-12-22T19:43:08.586974Z",
     "shell.execute_reply": "2021-12-22T19:43:08.586540Z"
    }
   },
   "outputs": [],
   "source": [
    "# we read data from csv and parquet into dataframes."
   ]
  },
  {
   "cell_type": "code",
   "execution_count": 6,
   "id": "dc424a1a",
   "metadata": {
    "execution": {
     "iopub.execute_input": "2021-12-22T19:43:08.593692Z",
     "iopub.status.busy": "2021-12-22T19:43:08.593123Z",
     "iopub.status.idle": "2021-12-22T19:43:08.654519Z",
     "shell.execute_reply": "2021-12-22T19:43:08.653273Z"
    }
   },
   "outputs": [],
   "source": [
    "carriers = pd.read_csv(os.path.join(root_path, 'source', 'carriers.csv'))\n",
    "airports = pd.read_csv(os.path.join(root_path, 'source', 'airports.csv'), keep_default_na=False)\n",
    "flights = pd.read_csv(os.path.join(root_path, 'source', 'flights.csv'))\n",
    "carriers_parquet = pd.read_parquet(os.path.join(root_path, 'raw', 'carriers'))"
   ]
  },
  {
   "cell_type": "code",
   "execution_count": 7,
   "id": "d62358ee",
   "metadata": {
    "execution": {
     "iopub.execute_input": "2021-12-22T19:43:08.659809Z",
     "iopub.status.busy": "2021-12-22T19:43:08.659062Z",
     "iopub.status.idle": "2021-12-22T19:43:08.663767Z",
     "shell.execute_reply": "2021-12-22T19:43:08.663266Z"
    }
   },
   "outputs": [],
   "source": [
    "# set the required variables"
   ]
  },
  {
   "cell_type": "code",
   "execution_count": 8,
   "id": "7b73a88f",
   "metadata": {
    "execution": {
     "iopub.execute_input": "2021-12-22T19:43:08.671306Z",
     "iopub.status.busy": "2021-12-22T19:43:08.670414Z",
     "iopub.status.idle": "2021-12-22T19:43:08.675451Z",
     "shell.execute_reply": "2021-12-22T19:43:08.674852Z"
    }
   },
   "outputs": [],
   "source": [
    "carriers.columns = carriers.columns.str.title()\n",
    "carriers_parquet.columns = carriers_parquet.columns.str.title()\n",
    "result_list = []\n",
    "column_result_list = ['Table', 'DQ_check', 'Column', 'Status', 'Bad_Data']"
   ]
  },
  {
   "cell_type": "code",
   "execution_count": 9,
   "id": "801174a2",
   "metadata": {
    "execution": {
     "iopub.execute_input": "2021-12-22T19:43:08.680705Z",
     "iopub.status.busy": "2021-12-22T19:43:08.679944Z",
     "iopub.status.idle": "2021-12-22T19:43:08.682894Z",
     "shell.execute_reply": "2021-12-22T19:43:08.683340Z"
    }
   },
   "outputs": [],
   "source": [
    "# Let's create a function that will compare two dataframes.\n",
    "# The output will be the number of lines that differ in the dataframes.\n",
    "# If the result is 0, then there is no difference."
   ]
  },
  {
   "cell_type": "code",
   "execution_count": 10,
   "id": "6d6b2246",
   "metadata": {
    "execution": {
     "iopub.execute_input": "2021-12-22T19:43:08.689538Z",
     "iopub.status.busy": "2021-12-22T19:43:08.688957Z",
     "iopub.status.idle": "2021-12-22T19:43:08.693493Z",
     "shell.execute_reply": "2021-12-22T19:43:08.693043Z"
    }
   },
   "outputs": [],
   "source": [
    "def compare_two_dataframe(df1, df2):\n",
    "    \"\"\"\n",
    "    return:\n",
    "        0 - test passed\n",
    "        != 0 - test failed\n",
    "    \"\"\"\n",
    "    df_diff = df1.merge(df2,indicator=True, how='left').loc[lambda x : x['_merge']!='both']\n",
    "    return df_diff['_merge'].count()"
   ]
  },
  {
   "cell_type": "code",
   "execution_count": 11,
   "id": "18894d17",
   "metadata": {
    "execution": {
     "iopub.execute_input": "2021-12-22T19:43:08.699918Z",
     "iopub.status.busy": "2021-12-22T19:43:08.698077Z",
     "iopub.status.idle": "2021-12-22T19:43:08.700645Z",
     "shell.execute_reply": "2021-12-22T19:43:08.701050Z"
    }
   },
   "outputs": [],
   "source": [
    "# We create a function that will compare two parameters dependent on each other.\n",
    "# The output will be the number of differences.\n",
    "# If the result is 0, then there is no difference."
   ]
  },
  {
   "cell_type": "code",
   "execution_count": 12,
   "id": "6be7d9ef",
   "metadata": {
    "execution": {
     "iopub.execute_input": "2021-12-22T19:43:08.707041Z",
     "iopub.status.busy": "2021-12-22T19:43:08.706180Z",
     "iopub.status.idle": "2021-12-22T19:43:08.708857Z",
     "shell.execute_reply": "2021-12-22T19:43:08.708415Z"
    }
   },
   "outputs": [],
   "source": [
    "def chech_parameter_dependence(df, column1, condition1, column2, condition2):\n",
    "    \"\"\"\n",
    "    return:\n",
    "        0 - test passed\n",
    "        != 0 - test failed\n",
    "    \"\"\"\n",
    "    return df[(df[column1] == condition1) & (df[column2] == condition2)].shape[0]"
   ]
  },
  {
   "cell_type": "code",
   "execution_count": 13,
   "id": "98afdc40",
   "metadata": {
    "execution": {
     "iopub.execute_input": "2021-12-22T19:43:08.713745Z",
     "iopub.status.busy": "2021-12-22T19:43:08.713029Z",
     "iopub.status.idle": "2021-12-22T19:43:08.716190Z",
     "shell.execute_reply": "2021-12-22T19:43:08.715706Z"
    }
   },
   "outputs": [],
   "source": [
    "# We create a function that will compare two parameters dependent on each other. The second parameter is NOT NULL.\n",
    "# The output will be the number of differences.\n",
    "# If the result is 0, then there is no difference."
   ]
  },
  {
   "cell_type": "code",
   "execution_count": 14,
   "id": "22655d23",
   "metadata": {
    "execution": {
     "iopub.execute_input": "2021-12-22T19:43:08.723440Z",
     "iopub.status.busy": "2021-12-22T19:43:08.721669Z",
     "iopub.status.idle": "2021-12-22T19:43:08.724160Z",
     "shell.execute_reply": "2021-12-22T19:43:08.724565Z"
    }
   },
   "outputs": [],
   "source": [
    "def chech_parameter_and_null(df, column1, condition1, column2):\n",
    "    \"\"\"\n",
    "    return:\n",
    "        0 - test passed\n",
    "        != 0 - test failed\n",
    "    \"\"\"\n",
    "    return df[(df[column1] == condition1) & (df[column2].notnull())].shape[0]"
   ]
  },
  {
   "cell_type": "code",
   "execution_count": 15,
   "id": "9c75a5f2",
   "metadata": {
    "execution": {
     "iopub.execute_input": "2021-12-22T19:43:08.729421Z",
     "iopub.status.busy": "2021-12-22T19:43:08.728613Z",
     "iopub.status.idle": "2021-12-22T19:43:08.731854Z",
     "shell.execute_reply": "2021-12-22T19:43:08.731332Z"
    }
   },
   "outputs": [],
   "source": [
    "# We create a function that will compare two parameters dependent on each other. The condition for the second parameter is inverted.\n",
    "# The output will be the number of differences.\n",
    "# If the result is 0, then there is no difference."
   ]
  },
  {
   "cell_type": "code",
   "execution_count": 16,
   "id": "b1d2b64d",
   "metadata": {
    "execution": {
     "iopub.execute_input": "2021-12-22T19:43:08.738152Z",
     "iopub.status.busy": "2021-12-22T19:43:08.737215Z",
     "iopub.status.idle": "2021-12-22T19:43:08.739773Z",
     "shell.execute_reply": "2021-12-22T19:43:08.740163Z"
    }
   },
   "outputs": [],
   "source": [
    "def chech_parameter_and_not_condition2(df, column1, condition1, column2, condition2):\n",
    "    \"\"\"\n",
    "    return:\n",
    "        0 - test passed\n",
    "        != 0 - test failed\n",
    "    \"\"\"\n",
    "    return df[(df[column1] == condition1) & (~df[column2].isin(condition2))].shape[0]"
   ]
  },
  {
   "cell_type": "code",
   "execution_count": 17,
   "id": "6cfbc7ba",
   "metadata": {
    "execution": {
     "iopub.execute_input": "2021-12-22T19:43:08.746623Z",
     "iopub.status.busy": "2021-12-22T19:43:08.744854Z",
     "iopub.status.idle": "2021-12-22T19:43:08.747375Z",
     "shell.execute_reply": "2021-12-22T19:43:08.747806Z"
    }
   },
   "outputs": [],
   "source": [
    "# We create a function that will parse a text line containing time. For example \"1525\".\n",
    "# In the output, this string is converted to the number of minutes."
   ]
  },
  {
   "cell_type": "code",
   "execution_count": 18,
   "id": "975a1531",
   "metadata": {
    "execution": {
     "iopub.execute_input": "2021-12-22T19:43:08.754252Z",
     "iopub.status.busy": "2021-12-22T19:43:08.753323Z",
     "iopub.status.idle": "2021-12-22T19:43:08.755756Z",
     "shell.execute_reply": "2021-12-22T19:43:08.756137Z"
    }
   },
   "outputs": [],
   "source": [
    "def string_to_minutes(df_work, column):\n",
    "    df_work[column] = df_work[column].str[-4:-2].astype(int) * 60 + df_work[column].str[-2:].astype(int)\n",
    "    return df_work"
   ]
  },
  {
   "cell_type": "code",
   "execution_count": 19,
   "id": "95c631bd",
   "metadata": {
    "execution": {
     "iopub.execute_input": "2021-12-22T19:43:08.761432Z",
     "iopub.status.busy": "2021-12-22T19:43:08.760595Z",
     "iopub.status.idle": "2021-12-22T19:43:08.763513Z",
     "shell.execute_reply": "2021-12-22T19:43:08.763024Z"
    }
   },
   "outputs": [],
   "source": [
    "# We create a function that will calculate the difference in values in two columns and compare with the third.\n",
    "# If the result differs, then 1 will be written to the 'Result' column, otherwise 0.\n",
    "# The output will be the sum of the 'Result' column.\n",
    "# # If the result is 0, then there is no difference."
   ]
  },
  {
   "cell_type": "code",
   "execution_count": 20,
   "id": "63387ca0",
   "metadata": {
    "execution": {
     "iopub.execute_input": "2021-12-22T19:43:08.771164Z",
     "iopub.status.busy": "2021-12-22T19:43:08.769264Z",
     "iopub.status.idle": "2021-12-22T19:43:08.771847Z",
     "shell.execute_reply": "2021-12-22T19:43:08.772246Z"
    }
   },
   "outputs": [],
   "source": [
    "def difference_two_column_use_conditional_column(df_work, column_condition, column1, column2):\n",
    "    \"\"\"\n",
    "    return:\n",
    "        0 - test passed\n",
    "        != 0 - test failed\n",
    "    \"\"\"\n",
    "    df_work['Result'] = np.where(df_work[column_condition] == df_work[column1] - df_work[column2], 0, 1)\n",
    "    return df_work['Result'].sum()"
   ]
  },
  {
   "cell_type": "code",
   "execution_count": 21,
   "id": "cb57d69f",
   "metadata": {
    "execution": {
     "iopub.execute_input": "2021-12-22T19:43:08.779306Z",
     "iopub.status.busy": "2021-12-22T19:43:08.777184Z",
     "iopub.status.idle": "2021-12-22T19:43:08.779963Z",
     "shell.execute_reply": "2021-12-22T19:43:08.780373Z"
    }
   },
   "outputs": [],
   "source": [
    "# check if data is loaded from files"
   ]
  },
  {
   "cell_type": "code",
   "execution_count": 22,
   "id": "ffb41987",
   "metadata": {
    "execution": {
     "iopub.execute_input": "2021-12-22T19:43:08.793910Z",
     "iopub.status.busy": "2021-12-22T19:43:08.793354Z",
     "iopub.status.idle": "2021-12-22T19:43:08.807582Z",
     "shell.execute_reply": "2021-12-22T19:43:08.807015Z"
    }
   },
   "outputs": [
    {
     "data": {
      "text/html": [
       "<div>\n",
       "<style scoped>\n",
       "    .dataframe tbody tr th:only-of-type {\n",
       "        vertical-align: middle;\n",
       "    }\n",
       "\n",
       "    .dataframe tbody tr th {\n",
       "        vertical-align: top;\n",
       "    }\n",
       "\n",
       "    .dataframe thead th {\n",
       "        text-align: right;\n",
       "    }\n",
       "</style>\n",
       "<table border=\"1\" class=\"dataframe\">\n",
       "  <thead>\n",
       "    <tr style=\"text-align: right;\">\n",
       "      <th></th>\n",
       "      <th>Code</th>\n",
       "      <th>Description</th>\n",
       "    </tr>\n",
       "  </thead>\n",
       "  <tbody>\n",
       "    <tr>\n",
       "      <th>0</th>\n",
       "      <td>02Q</td>\n",
       "      <td>Titan Airways</td>\n",
       "    </tr>\n",
       "    <tr>\n",
       "      <th>1</th>\n",
       "      <td>04Q</td>\n",
       "      <td>Tradewind Aviation</td>\n",
       "    </tr>\n",
       "    <tr>\n",
       "      <th>2</th>\n",
       "      <td>05Q</td>\n",
       "      <td>Comlux Aviation, AG</td>\n",
       "    </tr>\n",
       "    <tr>\n",
       "      <th>3</th>\n",
       "      <td>06Q</td>\n",
       "      <td>Master Top Linhas Aereas Ltd.</td>\n",
       "    </tr>\n",
       "    <tr>\n",
       "      <th>4</th>\n",
       "      <td>07Q</td>\n",
       "      <td>Flair Airlines Ltd.</td>\n",
       "    </tr>\n",
       "  </tbody>\n",
       "</table>\n",
       "</div>"
      ],
      "text/plain": [
       "  Code                    Description\n",
       "0  02Q                  Titan Airways\n",
       "1  04Q             Tradewind Aviation\n",
       "2  05Q            Comlux Aviation, AG\n",
       "3  06Q  Master Top Linhas Aereas Ltd.\n",
       "4  07Q            Flair Airlines Ltd."
      ]
     },
     "execution_count": 22,
     "metadata": {},
     "output_type": "execute_result"
    }
   ],
   "source": [
    "carriers.head()"
   ]
  },
  {
   "cell_type": "code",
   "execution_count": 23,
   "id": "3bda0a2f",
   "metadata": {
    "execution": {
     "iopub.execute_input": "2021-12-22T19:43:08.821581Z",
     "iopub.status.busy": "2021-12-22T19:43:08.820994Z",
     "iopub.status.idle": "2021-12-22T19:43:08.827054Z",
     "shell.execute_reply": "2021-12-22T19:43:08.826512Z"
    }
   },
   "outputs": [
    {
     "data": {
      "text/html": [
       "<div>\n",
       "<style scoped>\n",
       "    .dataframe tbody tr th:only-of-type {\n",
       "        vertical-align: middle;\n",
       "    }\n",
       "\n",
       "    .dataframe tbody tr th {\n",
       "        vertical-align: top;\n",
       "    }\n",
       "\n",
       "    .dataframe thead th {\n",
       "        text-align: right;\n",
       "    }\n",
       "</style>\n",
       "<table border=\"1\" class=\"dataframe\">\n",
       "  <thead>\n",
       "    <tr style=\"text-align: right;\">\n",
       "      <th></th>\n",
       "      <th>iata</th>\n",
       "      <th>airport</th>\n",
       "      <th>city</th>\n",
       "      <th>state</th>\n",
       "      <th>country</th>\n",
       "      <th>lat</th>\n",
       "      <th>long</th>\n",
       "    </tr>\n",
       "  </thead>\n",
       "  <tbody>\n",
       "    <tr>\n",
       "      <th>0</th>\n",
       "      <td>00M</td>\n",
       "      <td>Thigpen</td>\n",
       "      <td>Bay Springs</td>\n",
       "      <td>MS</td>\n",
       "      <td>USA</td>\n",
       "      <td>31.95376472</td>\n",
       "      <td>-89.23450472</td>\n",
       "    </tr>\n",
       "    <tr>\n",
       "      <th>1</th>\n",
       "      <td>00R</td>\n",
       "      <td>Livingston Municipal</td>\n",
       "      <td>Livingston</td>\n",
       "      <td>TX</td>\n",
       "      <td>USA</td>\n",
       "      <td>30.68586111</td>\n",
       "      <td>-95.01792778</td>\n",
       "    </tr>\n",
       "    <tr>\n",
       "      <th>2</th>\n",
       "      <td>00V</td>\n",
       "      <td>Meadow Lake</td>\n",
       "      <td>Colorado Springs</td>\n",
       "      <td>CO</td>\n",
       "      <td>USA</td>\n",
       "      <td>38.94574889</td>\n",
       "      <td>-104.5698933</td>\n",
       "    </tr>\n",
       "    <tr>\n",
       "      <th>3</th>\n",
       "      <td>01G</td>\n",
       "      <td>Perry-Warsaw</td>\n",
       "      <td>Perry</td>\n",
       "      <td>NY</td>\n",
       "      <td>USA</td>\n",
       "      <td>42.74134667</td>\n",
       "      <td>-78.05208056</td>\n",
       "    </tr>\n",
       "    <tr>\n",
       "      <th>4</th>\n",
       "      <td>01J</td>\n",
       "      <td>Hilliard Airpark</td>\n",
       "      <td>Hilliard</td>\n",
       "      <td>FL</td>\n",
       "      <td>USA</td>\n",
       "      <td>30.6880125</td>\n",
       "      <td>-81.90594389</td>\n",
       "    </tr>\n",
       "  </tbody>\n",
       "</table>\n",
       "</div>"
      ],
      "text/plain": [
       "  iata               airport              city state country          lat  \\\n",
       "0  00M              Thigpen        Bay Springs    MS     USA  31.95376472   \n",
       "1  00R  Livingston Municipal        Livingston    TX     USA  30.68586111   \n",
       "2  00V           Meadow Lake  Colorado Springs    CO     USA  38.94574889   \n",
       "3  01G          Perry-Warsaw             Perry    NY     USA  42.74134667   \n",
       "4  01J      Hilliard Airpark          Hilliard    FL     USA   30.6880125   \n",
       "\n",
       "           long  \n",
       "0  -89.23450472  \n",
       "1  -95.01792778  \n",
       "2  -104.5698933  \n",
       "3  -78.05208056  \n",
       "4  -81.90594389  "
      ]
     },
     "execution_count": 23,
     "metadata": {},
     "output_type": "execute_result"
    }
   ],
   "source": [
    "airports.head()"
   ]
  },
  {
   "cell_type": "code",
   "execution_count": 24,
   "id": "e80cf3f1",
   "metadata": {
    "execution": {
     "iopub.execute_input": "2021-12-22T19:43:08.859632Z",
     "iopub.status.busy": "2021-12-22T19:43:08.858565Z",
     "iopub.status.idle": "2021-12-22T19:43:08.862910Z",
     "shell.execute_reply": "2021-12-22T19:43:08.862408Z"
    }
   },
   "outputs": [
    {
     "data": {
      "text/html": [
       "<div>\n",
       "<style scoped>\n",
       "    .dataframe tbody tr th:only-of-type {\n",
       "        vertical-align: middle;\n",
       "    }\n",
       "\n",
       "    .dataframe tbody tr th {\n",
       "        vertical-align: top;\n",
       "    }\n",
       "\n",
       "    .dataframe thead th {\n",
       "        text-align: right;\n",
       "    }\n",
       "</style>\n",
       "<table border=\"1\" class=\"dataframe\">\n",
       "  <thead>\n",
       "    <tr style=\"text-align: right;\">\n",
       "      <th></th>\n",
       "      <th>Year</th>\n",
       "      <th>Month</th>\n",
       "      <th>DayofMonth</th>\n",
       "      <th>DayOfWeek</th>\n",
       "      <th>DepTime</th>\n",
       "      <th>CRSDepTime</th>\n",
       "      <th>ArrTime</th>\n",
       "      <th>CRSArrTime</th>\n",
       "      <th>UniqueCarrier</th>\n",
       "      <th>FlightNum</th>\n",
       "      <th>...</th>\n",
       "      <th>TaxiIn</th>\n",
       "      <th>TaxiOut</th>\n",
       "      <th>Cancelled</th>\n",
       "      <th>CancellationCode</th>\n",
       "      <th>Diverted</th>\n",
       "      <th>CarrierDelay</th>\n",
       "      <th>WeatherDelay</th>\n",
       "      <th>NASDelay</th>\n",
       "      <th>SecurityDelay</th>\n",
       "      <th>LateAircraftDelay</th>\n",
       "    </tr>\n",
       "  </thead>\n",
       "  <tbody>\n",
       "    <tr>\n",
       "      <th>0</th>\n",
       "      <td>2008.0</td>\n",
       "      <td>5.0</td>\n",
       "      <td>1.0</td>\n",
       "      <td>4.0</td>\n",
       "      <td>859.0</td>\n",
       "      <td>905.0</td>\n",
       "      <td>1025.0</td>\n",
       "      <td>1030.0</td>\n",
       "      <td>AA</td>\n",
       "      <td>1755.0</td>\n",
       "      <td>...</td>\n",
       "      <td>5.0</td>\n",
       "      <td>10.0</td>\n",
       "      <td>0.0</td>\n",
       "      <td>NaN</td>\n",
       "      <td>0.0</td>\n",
       "      <td>NaN</td>\n",
       "      <td>NaN</td>\n",
       "      <td>8.0</td>\n",
       "      <td>NaN</td>\n",
       "      <td>NaN</td>\n",
       "    </tr>\n",
       "    <tr>\n",
       "      <th>1</th>\n",
       "      <td>2008.0</td>\n",
       "      <td>5.0</td>\n",
       "      <td>1.0</td>\n",
       "      <td>4.0</td>\n",
       "      <td>859.0</td>\n",
       "      <td>905.0</td>\n",
       "      <td>1025.0</td>\n",
       "      <td>1030.0</td>\n",
       "      <td>AA</td>\n",
       "      <td>1755.0</td>\n",
       "      <td>...</td>\n",
       "      <td>5.0</td>\n",
       "      <td>10.0</td>\n",
       "      <td>0.0</td>\n",
       "      <td>NaN</td>\n",
       "      <td>0.0</td>\n",
       "      <td>NaN</td>\n",
       "      <td>5.0</td>\n",
       "      <td>NaN</td>\n",
       "      <td>NaN</td>\n",
       "      <td>NaN</td>\n",
       "    </tr>\n",
       "    <tr>\n",
       "      <th>2</th>\n",
       "      <td>2008.0</td>\n",
       "      <td>5.0</td>\n",
       "      <td>1.0</td>\n",
       "      <td>4.0</td>\n",
       "      <td>859.0</td>\n",
       "      <td>905.0</td>\n",
       "      <td>1025.0</td>\n",
       "      <td>1030.0</td>\n",
       "      <td>AA</td>\n",
       "      <td>1856.0</td>\n",
       "      <td>...</td>\n",
       "      <td>5.0</td>\n",
       "      <td>10.0</td>\n",
       "      <td>0.0</td>\n",
       "      <td>NaN</td>\n",
       "      <td>0.0</td>\n",
       "      <td>3.0</td>\n",
       "      <td>NaN</td>\n",
       "      <td>NaN</td>\n",
       "      <td>NaN</td>\n",
       "      <td>NaN</td>\n",
       "    </tr>\n",
       "    <tr>\n",
       "      <th>3</th>\n",
       "      <td>2008.0</td>\n",
       "      <td>5.0</td>\n",
       "      <td>2.0</td>\n",
       "      <td>5.0</td>\n",
       "      <td>901.0</td>\n",
       "      <td>905.0</td>\n",
       "      <td>1104.0</td>\n",
       "      <td>1030.0</td>\n",
       "      <td>AA</td>\n",
       "      <td>1755.0</td>\n",
       "      <td>...</td>\n",
       "      <td>7.0</td>\n",
       "      <td>35.0</td>\n",
       "      <td>0.0</td>\n",
       "      <td>NaN</td>\n",
       "      <td>0.0</td>\n",
       "      <td>0.0</td>\n",
       "      <td>0.0</td>\n",
       "      <td>34.0</td>\n",
       "      <td>0.0</td>\n",
       "      <td>0.0</td>\n",
       "    </tr>\n",
       "    <tr>\n",
       "      <th>4</th>\n",
       "      <td>2008.0</td>\n",
       "      <td>5.0</td>\n",
       "      <td>3.0</td>\n",
       "      <td>6.0</td>\n",
       "      <td>901.0</td>\n",
       "      <td>905.0</td>\n",
       "      <td>1034.0</td>\n",
       "      <td>1030.0</td>\n",
       "      <td>AA</td>\n",
       "      <td>1755.0</td>\n",
       "      <td>...</td>\n",
       "      <td>5.0</td>\n",
       "      <td>17.0</td>\n",
       "      <td>0.0</td>\n",
       "      <td>NaN</td>\n",
       "      <td>0.0</td>\n",
       "      <td>NaN</td>\n",
       "      <td>NaN</td>\n",
       "      <td>NaN</td>\n",
       "      <td>NaN</td>\n",
       "      <td>NaN</td>\n",
       "    </tr>\n",
       "  </tbody>\n",
       "</table>\n",
       "<p>5 rows × 29 columns</p>\n",
       "</div>"
      ],
      "text/plain": [
       "     Year  Month  DayofMonth  DayOfWeek  DepTime  CRSDepTime  ArrTime  \\\n",
       "0  2008.0    5.0         1.0        4.0    859.0       905.0   1025.0   \n",
       "1  2008.0    5.0         1.0        4.0    859.0       905.0   1025.0   \n",
       "2  2008.0    5.0         1.0        4.0    859.0       905.0   1025.0   \n",
       "3  2008.0    5.0         2.0        5.0    901.0       905.0   1104.0   \n",
       "4  2008.0    5.0         3.0        6.0    901.0       905.0   1034.0   \n",
       "\n",
       "   CRSArrTime UniqueCarrier  FlightNum  ... TaxiIn  TaxiOut  Cancelled  \\\n",
       "0      1030.0            AA     1755.0  ...    5.0     10.0        0.0   \n",
       "1      1030.0            AA     1755.0  ...    5.0     10.0        0.0   \n",
       "2      1030.0            AA     1856.0  ...    5.0     10.0        0.0   \n",
       "3      1030.0            AA     1755.0  ...    7.0     35.0        0.0   \n",
       "4      1030.0            AA     1755.0  ...    5.0     17.0        0.0   \n",
       "\n",
       "   CancellationCode  Diverted  CarrierDelay WeatherDelay NASDelay  \\\n",
       "0               NaN       0.0           NaN          NaN      8.0   \n",
       "1               NaN       0.0           NaN          5.0      NaN   \n",
       "2               NaN       0.0           3.0          NaN      NaN   \n",
       "3               NaN       0.0           0.0          0.0     34.0   \n",
       "4               NaN       0.0           NaN          NaN      NaN   \n",
       "\n",
       "   SecurityDelay  LateAircraftDelay  \n",
       "0            NaN                NaN  \n",
       "1            NaN                NaN  \n",
       "2            NaN                NaN  \n",
       "3            0.0                0.0  \n",
       "4            NaN                NaN  \n",
       "\n",
       "[5 rows x 29 columns]"
      ]
     },
     "execution_count": 24,
     "metadata": {},
     "output_type": "execute_result"
    }
   ],
   "source": [
    "flights.head()"
   ]
  },
  {
   "cell_type": "code",
   "execution_count": 25,
   "id": "41a050a3",
   "metadata": {
    "execution": {
     "iopub.execute_input": "2021-12-22T19:43:08.874295Z",
     "iopub.status.busy": "2021-12-22T19:43:08.866171Z",
     "iopub.status.idle": "2021-12-22T19:43:08.878720Z",
     "shell.execute_reply": "2021-12-22T19:43:08.878116Z"
    }
   },
   "outputs": [
    {
     "data": {
      "text/html": [
       "<div>\n",
       "<style scoped>\n",
       "    .dataframe tbody tr th:only-of-type {\n",
       "        vertical-align: middle;\n",
       "    }\n",
       "\n",
       "    .dataframe tbody tr th {\n",
       "        vertical-align: top;\n",
       "    }\n",
       "\n",
       "    .dataframe thead th {\n",
       "        text-align: right;\n",
       "    }\n",
       "</style>\n",
       "<table border=\"1\" class=\"dataframe\">\n",
       "  <thead>\n",
       "    <tr style=\"text-align: right;\">\n",
       "      <th></th>\n",
       "      <th>Code</th>\n",
       "      <th>Description</th>\n",
       "    </tr>\n",
       "  </thead>\n",
       "  <tbody>\n",
       "    <tr>\n",
       "      <th>0</th>\n",
       "      <td>02Q</td>\n",
       "      <td>Titan Airways</td>\n",
       "    </tr>\n",
       "    <tr>\n",
       "      <th>1</th>\n",
       "      <td>04Q</td>\n",
       "      <td>Tradewind Aviation</td>\n",
       "    </tr>\n",
       "    <tr>\n",
       "      <th>2</th>\n",
       "      <td>05Q</td>\n",
       "      <td>Comlux Aviation, AG</td>\n",
       "    </tr>\n",
       "    <tr>\n",
       "      <th>3</th>\n",
       "      <td>06Q</td>\n",
       "      <td>Master Top Linhas Aereas Ltd.</td>\n",
       "    </tr>\n",
       "    <tr>\n",
       "      <th>4</th>\n",
       "      <td>07Q</td>\n",
       "      <td>Flair Airlines Ltd.</td>\n",
       "    </tr>\n",
       "  </tbody>\n",
       "</table>\n",
       "</div>"
      ],
      "text/plain": [
       "  Code                    Description\n",
       "0  02Q                  Titan Airways\n",
       "1  04Q             Tradewind Aviation\n",
       "2  05Q            Comlux Aviation, AG\n",
       "3  06Q  Master Top Linhas Aereas Ltd.\n",
       "4  07Q            Flair Airlines Ltd."
      ]
     },
     "execution_count": 25,
     "metadata": {},
     "output_type": "execute_result"
    }
   ],
   "source": [
    "carriers_parquet.head()"
   ]
  },
  {
   "cell_type": "code",
   "execution_count": 26,
   "id": "c84c9bd0",
   "metadata": {
    "execution": {
     "iopub.execute_input": "2021-12-22T19:43:08.883182Z",
     "iopub.status.busy": "2021-12-22T19:43:08.882637Z",
     "iopub.status.idle": "2021-12-22T19:43:08.887101Z",
     "shell.execute_reply": "2021-12-22T19:43:08.886643Z"
    }
   },
   "outputs": [],
   "source": [
    "# Carrier: Completeness by records\n",
    "# the test result will be written to the result_list variable.\n",
    "# compare data in two dataframes in the 'Code' and 'Description' columns"
   ]
  },
  {
   "cell_type": "code",
   "execution_count": 27,
   "id": "cd94c3ae",
   "metadata": {
    "execution": {
     "iopub.execute_input": "2021-12-22T19:43:08.903059Z",
     "iopub.status.busy": "2021-12-22T19:43:08.899682Z",
     "iopub.status.idle": "2021-12-22T19:43:08.911003Z",
     "shell.execute_reply": "2021-12-22T19:43:08.910510Z"
    }
   },
   "outputs": [],
   "source": [
    "result = compare_two_dataframe(carriers, carriers_parquet)\n",
    "result_list.append(['Carriers',\n",
    "                   'Completeness',\n",
    "                   'Code, Description',\n",
    "                   True if result == 0 else False,\n",
    "                   'No bad data.' if result == 0 else f'Found {result} differences between data in source and raw.'])"
   ]
  },
  {
   "cell_type": "code",
   "execution_count": 28,
   "id": "7b9956a0",
   "metadata": {
    "execution": {
     "iopub.execute_input": "2021-12-22T19:43:08.917764Z",
     "iopub.status.busy": "2021-12-22T19:43:08.915909Z",
     "iopub.status.idle": "2021-12-22T19:43:08.918510Z",
     "shell.execute_reply": "2021-12-22T19:43:08.918923Z"
    }
   },
   "outputs": [],
   "source": [
    "# Airports: Consistency check for state\n",
    "# 'NA' meaning no state specified can be applied for non US countries only. For US it should be a valid state. "
   ]
  },
  {
   "cell_type": "code",
   "execution_count": 29,
   "id": "c2cdf107",
   "metadata": {
    "execution": {
     "iopub.execute_input": "2021-12-22T19:43:08.928856Z",
     "iopub.status.busy": "2021-12-22T19:43:08.928252Z",
     "iopub.status.idle": "2021-12-22T19:43:08.933796Z",
     "shell.execute_reply": "2021-12-22T19:43:08.933315Z"
    }
   },
   "outputs": [],
   "source": [
    "result = chech_parameter_dependence(airports, 'country', 'USA', 'state', 'NA')\n",
    "result_list.append(['Airports',\n",
    "                   'Consistency',\n",
    "                   'country, state',\n",
    "                   True if result == 0 else False,\n",
    "                   'No bad data.' if result == 0 else f'Found {result} inconsistencies between the data in the columns.'])"
   ]
  },
  {
   "cell_type": "code",
   "execution_count": 30,
   "id": "bf3e3e0a",
   "metadata": {
    "execution": {
     "iopub.execute_input": "2021-12-22T19:43:08.939168Z",
     "iopub.status.busy": "2021-12-22T19:43:08.938210Z",
     "iopub.status.idle": "2021-12-22T19:43:08.940710Z",
     "shell.execute_reply": "2021-12-22T19:43:08.941131Z"
    }
   },
   "outputs": [],
   "source": [
    "# Flights: Consistency for CancellationCode\n",
    "# NULL if Cancelled = 0\n",
    "# A/B/C if Cancelled = 1"
   ]
  },
  {
   "cell_type": "code",
   "execution_count": 31,
   "id": "969cb4ec",
   "metadata": {
    "execution": {
     "iopub.execute_input": "2021-12-22T19:43:08.954785Z",
     "iopub.status.busy": "2021-12-22T19:43:08.952853Z",
     "iopub.status.idle": "2021-12-22T19:43:08.955452Z",
     "shell.execute_reply": "2021-12-22T19:43:08.955869Z"
    }
   },
   "outputs": [],
   "source": [
    "result = chech_parameter_and_null(flights, 'Cancelled', 0, 'CancellationCode')\n",
    "result_list.append(['Flights',\n",
    "                   'Consistency',\n",
    "                   'Cancelled, CancellationCode',\n",
    "                   True if result == 0 else False,\n",
    "                   'No bad data.' if result == 0 else f'Found {result} inconsistencies between the data in the columns. If the value is Canceled = 0'])\n",
    "\n",
    "result = chech_parameter_and_not_condition2(flights, 'Cancelled',  1, 'CancellationCode', ['A', 'B', 'C'])\n",
    "result_list.append(['Flights',\n",
    "                   'Consistency',\n",
    "                   'Cancelled, CancellationCode',\n",
    "                   True if result == 0 else False,\n",
    "                   'No bad data.' if result == 0 else f'Found {result} inconsistencies between the data in the columns. If the value is Canceled = 1'])\n"
   ]
  },
  {
   "cell_type": "code",
   "execution_count": 32,
   "id": "ef78c837",
   "metadata": {
    "execution": {
     "iopub.execute_input": "2021-12-22T19:43:08.960976Z",
     "iopub.status.busy": "2021-12-22T19:43:08.960209Z",
     "iopub.status.idle": "2021-12-22T19:43:08.963297Z",
     "shell.execute_reply": "2021-12-22T19:43:08.962827Z"
    }
   },
   "outputs": [],
   "source": [
    "# Flights: Consistency check for CRSElapsedTime\n",
    "# Calculated column: CRSArrTime - CRSDepTime (mins)\n",
    "# Explanation. Since the task did not have a test for checking data in the CRSArrTime and CRSDepTime columns,\n",
    "# we assume that the data in them does not contain errors and NULL.\n",
    "# Then we convert the data in columns to minutes and compare the difference with CRSElapsedTime."
   ]
  },
  {
   "cell_type": "code",
   "execution_count": 33,
   "id": "2c4b66eb",
   "metadata": {
    "execution": {
     "iopub.execute_input": "2021-12-22T19:43:08.974831Z",
     "iopub.status.busy": "2021-12-22T19:43:08.973966Z",
     "iopub.status.idle": "2021-12-22T19:43:08.988234Z",
     "shell.execute_reply": "2021-12-22T19:43:08.987716Z"
    }
   },
   "outputs": [],
   "source": [
    "df = '0000' + flights.loc[(flights['CRSElapsedTime'].notnull()) & (flights['CRSArrTime'].notnull()) & (flights['CRSDepTime'].notnull()),\n",
    "['CRSElapsedTime', 'CRSArrTime', 'CRSDepTime']].astype(int).astype(str)\n",
    "df['CRSElapsedTime'] = df['CRSElapsedTime'].astype(int)\n",
    "df = string_to_minutes(df, 'CRSArrTime')\n",
    "df = string_to_minutes(df, 'CRSDepTime')\n",
    "result = difference_two_column_use_conditional_column(df, 'CRSElapsedTime', 'CRSArrTime', 'CRSDepTime')\n",
    "result_list.append(['Flights',\n",
    "                   'Consistency',\n",
    "                   'CRSElapsedTime, CRSArrTime, CRSDepTime',\n",
    "                   True if result == 0 else False,\n",
    "                   'No bad data.' if result == 0 else f'Found {result} inconsistencies between the data in the columns. (CRSElapsedTime <> CRSArrTime - CRSDepTime)'])\n"
   ]
  },
  {
   "cell_type": "code",
   "execution_count": 34,
   "id": "06be1419",
   "metadata": {
    "execution": {
     "iopub.execute_input": "2021-12-22T19:43:08.993370Z",
     "iopub.status.busy": "2021-12-22T19:43:08.992495Z",
     "iopub.status.idle": "2021-12-22T19:43:08.995604Z",
     "shell.execute_reply": "2021-12-22T19:43:08.995035Z"
    }
   },
   "outputs": [],
   "source": [
    "# We convert the result to a dataframe and display it."
   ]
  },
  {
   "cell_type": "code",
   "execution_count": 35,
   "id": "ab6d1d05",
   "metadata": {
    "execution": {
     "iopub.execute_input": "2021-12-22T19:43:09.012280Z",
     "iopub.status.busy": "2021-12-22T19:43:09.010790Z",
     "iopub.status.idle": "2021-12-22T19:43:09.014346Z",
     "shell.execute_reply": "2021-12-22T19:43:09.014778Z"
    },
    "scrolled": false
   },
   "outputs": [
    {
     "data": {
      "text/html": [
       "<div>\n",
       "<style scoped>\n",
       "    .dataframe tbody tr th:only-of-type {\n",
       "        vertical-align: middle;\n",
       "    }\n",
       "\n",
       "    .dataframe tbody tr th {\n",
       "        vertical-align: top;\n",
       "    }\n",
       "\n",
       "    .dataframe thead th {\n",
       "        text-align: right;\n",
       "    }\n",
       "</style>\n",
       "<table border=\"1\" class=\"dataframe\">\n",
       "  <thead>\n",
       "    <tr style=\"text-align: right;\">\n",
       "      <th></th>\n",
       "      <th>Table</th>\n",
       "      <th>DQ_check</th>\n",
       "      <th>Column</th>\n",
       "      <th>Status</th>\n",
       "      <th>Bad_Data</th>\n",
       "    </tr>\n",
       "  </thead>\n",
       "  <tbody>\n",
       "    <tr>\n",
       "      <th>0</th>\n",
       "      <td>Carriers</td>\n",
       "      <td>Completeness</td>\n",
       "      <td>Code, Description</td>\n",
       "      <td>False</td>\n",
       "      <td>Found 7 differences between data in source and raw.</td>\n",
       "    </tr>\n",
       "    <tr>\n",
       "      <th>1</th>\n",
       "      <td>Airports</td>\n",
       "      <td>Consistency</td>\n",
       "      <td>country, state</td>\n",
       "      <td>False</td>\n",
       "      <td>Found 8 inconsistencies between the data in the columns.</td>\n",
       "    </tr>\n",
       "    <tr>\n",
       "      <th>2</th>\n",
       "      <td>Flights</td>\n",
       "      <td>Consistency</td>\n",
       "      <td>Cancelled, CancellationCode</td>\n",
       "      <td>False</td>\n",
       "      <td>Found 3 inconsistencies between the data in the columns. If the value is Canceled = 0</td>\n",
       "    </tr>\n",
       "    <tr>\n",
       "      <th>3</th>\n",
       "      <td>Flights</td>\n",
       "      <td>Consistency</td>\n",
       "      <td>Cancelled, CancellationCode</td>\n",
       "      <td>False</td>\n",
       "      <td>Found 1 inconsistencies between the data in the columns. If the value is Canceled = 1</td>\n",
       "    </tr>\n",
       "    <tr>\n",
       "      <th>4</th>\n",
       "      <td>Flights</td>\n",
       "      <td>Consistency</td>\n",
       "      <td>CRSElapsedTime, CRSArrTime, CRSDepTime</td>\n",
       "      <td>False</td>\n",
       "      <td>Found 244 inconsistencies between the data in the columns. (CRSElapsedTime &lt;&gt; CRSArrTime - CRSDepTime)</td>\n",
       "    </tr>\n",
       "  </tbody>\n",
       "</table>\n",
       "</div>"
      ],
      "text/plain": [
       "      Table      DQ_check                                  Column  Status  \\\n",
       "0  Carriers  Completeness                       Code, Description   False   \n",
       "1  Airports   Consistency                          country, state   False   \n",
       "2   Flights   Consistency             Cancelled, CancellationCode   False   \n",
       "3   Flights   Consistency             Cancelled, CancellationCode   False   \n",
       "4   Flights   Consistency  CRSElapsedTime, CRSArrTime, CRSDepTime   False   \n",
       "\n",
       "                                                                                                 Bad_Data  \n",
       "0                                                     Found 7 differences between data in source and raw.  \n",
       "1                                                Found 8 inconsistencies between the data in the columns.  \n",
       "2                   Found 3 inconsistencies between the data in the columns. If the value is Canceled = 0  \n",
       "3                   Found 1 inconsistencies between the data in the columns. If the value is Canceled = 1  \n",
       "4  Found 244 inconsistencies between the data in the columns. (CRSElapsedTime <> CRSArrTime - CRSDepTime)  "
      ]
     },
     "execution_count": 35,
     "metadata": {},
     "output_type": "execute_result"
    }
   ],
   "source": [
    "pd.set_option('display.max_colwidth', None)\n",
    "df_result = pd.DataFrame (result_list, columns = column_result_list)\n",
    "df_result"
   ]
  },
  {
   "cell_type": "code",
   "execution_count": 36,
   "id": "be3c85b2",
   "metadata": {
    "execution": {
     "iopub.execute_input": "2021-12-22T19:43:09.019854Z",
     "iopub.status.busy": "2021-12-22T19:43:09.019030Z",
     "iopub.status.idle": "2021-12-22T19:43:09.022427Z",
     "shell.execute_reply": "2021-12-22T19:43:09.021968Z"
    }
   },
   "outputs": [],
   "source": [
    "# write .xlsx and .csv"
   ]
  },
  {
   "cell_type": "code",
   "execution_count": 37,
   "id": "6b0cae70",
   "metadata": {
    "execution": {
     "iopub.execute_input": "2021-12-22T19:43:09.029925Z",
     "iopub.status.busy": "2021-12-22T19:43:09.028999Z",
     "iopub.status.idle": "2021-12-22T19:43:09.193442Z",
     "shell.execute_reply": "2021-12-22T19:43:09.192959Z"
    }
   },
   "outputs": [],
   "source": [
    "df_result.to_excel(os.path.join(root_path, 'test_result.xlsx'),\n",
    "             sheet_name='Test result')\n",
    "df_result.to_csv(os.path.join(root_path, 'test_result.csv'))"
   ]
  }
 ],
 "metadata": {
  "kernelspec": {
   "display_name": "Local PySpark (Python-3.7.9 / Spark-3.0.1 )",
   "language": "python",
   "name": "py3spark_local"
  },
  "language_info": {
   "codemirror_mode": {
    "name": "ipython",
    "version": 3
   },
   "file_extension": ".py",
   "mimetype": "text/x-python",
   "name": "python",
   "nbconvert_exporter": "python",
   "pygments_lexer": "ipython3",
   "version": "3.7.9"
  }
 },
 "nbformat": 4,
 "nbformat_minor": 5
}
